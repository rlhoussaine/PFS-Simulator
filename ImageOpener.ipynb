{
 "cells": [
  {
   "cell_type": "markdown",
   "metadata": {},
   "source": [
    "# Saving Private Prati"
   ]
  },
  {
   "cell_type": "code",
   "execution_count": 1,
   "metadata": {},
   "outputs": [],
   "source": [
    "import numpy as np\n",
    "import matplotlib.pyplot as plt\n",
    "from PIL import Image\n",
    "import glob as glob\n",
    "%matplotlib widget"
   ]
  },
  {
   "cell_type": "code",
   "execution_count": 2,
   "metadata": {},
   "outputs": [],
   "source": [
    "import pandas as pd"
   ]
  },
  {
   "cell_type": "code",
   "execution_count": 3,
   "metadata": {},
   "outputs": [],
   "source": [
    "import sep"
   ]
  },
  {
   "cell_type": "code",
   "execution_count": 4,
   "metadata": {},
   "outputs": [],
   "source": [
    "from photutils.centroids import centroid_com"
   ]
  },
  {
   "cell_type": "code",
   "execution_count": 5,
   "metadata": {},
   "outputs": [],
   "source": [
    "from scipy.optimize import curve_fit"
   ]
  },
  {
   "cell_type": "code",
   "execution_count": 6,
   "metadata": {},
   "outputs": [],
   "source": [
    "import seaborn as sns"
   ]
  },
  {
   "cell_type": "code",
   "execution_count": 7,
   "metadata": {},
   "outputs": [],
   "source": [
    "# Define the Gaussian function\n",
    "def gaussian(x, amplitude, mean, sigma):\n",
    "    return amplitude * np.exp(-(x - mean)**2 / (2 * sigma**2))"
   ]
  },
  {
   "cell_type": "code",
   "execution_count": 8,
   "metadata": {},
   "outputs": [],
   "source": [
    "\n",
    "def gaussian_psf(size, sigma, center=None):\n",
    "    \"\"\"\n",
    "    Generate a 2D Gaussian PSF.\n",
    "    :param size: Tuple of the shape of the image (height, width)\n",
    "    :param sigma: Standard deviation of the Gaussian PSF\n",
    "    :param center: Tuple for the center of the PSF (y, x). If None, it will be at the center of the image.\n",
    "    :return: 2D numpy array representing the PSF\n",
    "    \"\"\"\n",
    "    y, x = np.indices(size)\n",
    "    \n",
    "    if center is None:\n",
    "        center_y, center_x = size[0] // 2, size[1] // 2\n",
    "    else:\n",
    "        center_y, center_x = center\n",
    "    \n",
    "    gauss = np.exp(-((x - center_x)**2 + (y - center_y)**2) / (2 * sigma**2))\n",
    "    return gauss / gauss.max()  # Normalize to have max value of 1\n"
   ]
  },
  {
   "cell_type": "code",
   "execution_count": 9,
   "metadata": {},
   "outputs": [],
   "source": [
    "list  = glob.glob(\"/home/romain/Bureau/0mm/*tiff\")"
   ]
  },
  {
   "cell_type": "raw",
   "metadata": {
    "vscode": {
     "languageId": "raw"
    }
   },
   "source": [
    "list  = glob.glob(\"/home/romain/Bureau/CameraAlign/NewGain/*tiff\")"
   ]
  },
  {
   "cell_type": "code",
   "execution_count": null,
   "metadata": {},
   "outputs": [],
   "source": [
    "list"
   ]
  },
  {
   "cell_type": "code",
   "execution_count": 30,
   "metadata": {},
   "outputs": [],
   "source": [
    "cube = np.zeros((len(list),2046,2048))\n",
    "cpt=0\n",
    "for img in list :\n",
    "    img_arr = np.array(Image.open(img))\n",
    "    cube[cpt,:,:] = img_arr\n",
    "    cpt += 1"
   ]
  },
  {
   "cell_type": "code",
   "execution_count": 33,
   "metadata": {},
   "outputs": [],
   "source": [
    "cube_mean = np.median(cube,axis=0)#[800:][:]"
   ]
  },
  {
   "cell_type": "code",
   "execution_count": null,
   "metadata": {},
   "outputs": [],
   "source": [
    "fig = plt.figure()\n",
    "plt.imshow(cube_mean, cmap='hot')\n",
    "plt.show()"
   ]
  },
  {
   "cell_type": "code",
   "execution_count": 15,
   "metadata": {},
   "outputs": [],
   "source": [
    "cube_mean = cube_mean/np.max(cube_mean)"
   ]
  },
  {
   "cell_type": "code",
   "execution_count": null,
   "metadata": {},
   "outputs": [],
   "source": [
    "np.shape(cube_mean)"
   ]
  },
  {
   "cell_type": "code",
   "execution_count": null,
   "metadata": {},
   "outputs": [],
   "source": [
    "fig = plt.figure()\n",
    "plt.imshow(cube_mean, cmap='hot')\n",
    "plt.show()"
   ]
  },
  {
   "cell_type": "code",
   "execution_count": 18,
   "metadata": {},
   "outputs": [],
   "source": [
    "roi = 200"
   ]
  },
  {
   "cell_type": "code",
   "execution_count": 19,
   "metadata": {},
   "outputs": [],
   "source": [
    "size = np.shape(cube_mean)"
   ]
  },
  {
   "cell_type": "code",
   "execution_count": 20,
   "metadata": {},
   "outputs": [],
   "source": [
    "img = cube_mean"
   ]
  },
  {
   "cell_type": "code",
   "execution_count": 21,
   "metadata": {},
   "outputs": [],
   "source": [
    "flux_ceil = 0.8\n",
    "\n",
    "data = sep.extract(cube_mean,flux_ceil)\n",
    "df = pd.DataFrame(data)\n",
    "\n",
    "x,y = df[[\"x\",\"y\"]].values[0][0],df[[\"x\",\"y\"]].values[0][1]\n",
    "\n",
    "x,y = round(x), round(y)\n",
    "\n",
    "cut_x = img[y][int(size[1]/2 - roi/2) :int(size[1]/2 +roi/2)]\n",
    "cut_y = img[x, int(size[0]/2 - roi/2) :int(size[0]/2 +roi/2)]\n",
    "\n",
    "# Generate the corresponding x indices for the length of cut_x\n",
    "x_data = np.arange(len(cut_x))\n",
    "y_data = np.arange(len(cut_y))\n",
    "\n",
    "# Fit the Gaussian curve\n",
    "params_x, covariance_x = curve_fit(gaussian, x_data, cut_x, p0=[np.max(cut_x), np.mean(x_data), np.std(x_data)])\n",
    "params_y, covariance_y = curve_fit(gaussian, y_data, cut_y, p0=[np.max(cut_y), np.mean(y_data), np.std(y_data)])\n",
    "\n",
    "# Extract the parameters\n",
    "amplitude_x, mean_x, sigma_x = params_x\n",
    "amplitude_y, mean_y, sigma_y = params_y\n",
    "\n",
    "# Create a DataFrame with the parameters\n",
    "df_x = pd.DataFrame({\n",
    "    'Amplitude_x': [amplitude_x],\n",
    "    'Mean_x': [mean_x],\n",
    "    'Sigma_x': [sigma_x]\n",
    "})\n",
    "\n",
    "df_y = pd.DataFrame({\n",
    "    'Amplitude_y': [amplitude_y],\n",
    "    'Mean_y': [mean_y],\n",
    "    'Sigma_y': [sigma_y]\n",
    "})\n",
    "\n",
    "df_gauss = pd.concat([df_x,df_y],axis=1)\n",
    "\n",
    "df_sep_fwhm = pd.concat([df,df_gauss],axis=1)"
   ]
  },
  {
   "cell_type": "code",
   "execution_count": null,
   "metadata": {},
   "outputs": [],
   "source": [
    "fig = plt.figure()\n",
    "plt.imshow(cube_mean[y-int(roi/2):y+int(roi/2),x-int(roi/2):x+int(roi/2)], cmap='hot')\n",
    "plt.show()"
   ]
  },
  {
   "cell_type": "code",
   "execution_count": null,
   "metadata": {},
   "outputs": [],
   "source": [
    "fig = plt.figure()\n",
    "plt.plot(x_data,cut_x)\n",
    "plt.show()"
   ]
  },
  {
   "cell_type": "code",
   "execution_count": null,
   "metadata": {},
   "outputs": [],
   "source": [
    "y_data"
   ]
  },
  {
   "cell_type": "code",
   "execution_count": null,
   "metadata": {},
   "outputs": [],
   "source": [
    "cut_x"
   ]
  },
  {
   "cell_type": "code",
   "execution_count": null,
   "metadata": {},
   "outputs": [],
   "source": []
  }
 ],
 "metadata": {
  "kernelspec": {
   "display_name": "default",
   "language": "python",
   "name": "python3"
  },
  "language_info": {
   "codemirror_mode": {
    "name": "ipython",
    "version": 3
   },
   "file_extension": ".py",
   "mimetype": "text/x-python",
   "name": "python",
   "nbconvert_exporter": "python",
   "pygments_lexer": "ipython3",
   "version": "3.12.6"
  }
 },
 "nbformat": 4,
 "nbformat_minor": 2
}
